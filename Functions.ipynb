{
 "cells": [
  {
   "cell_type": "markdown",
   "id": "9c62e236",
   "metadata": {},
   "source": [
    "Python Functions\n"
   ]
  },
  {
   "cell_type": "code",
   "execution_count": 2,
   "id": "8c46b32f",
   "metadata": {},
   "outputs": [],
   "source": [
    "def greet():\n",
    "  print(\"Hello from a function\")"
   ]
  },
  {
   "cell_type": "code",
   "execution_count": 3,
   "id": "15189bae",
   "metadata": {},
   "outputs": [
    {
     "name": "stdout",
     "output_type": "stream",
     "text": [
      "Hello from a function\n"
     ]
    }
   ],
   "source": [
    "def my_function():\n",
    "  print(\"Hello from a function\")\n",
    "\n",
    "my_function()"
   ]
  },
  {
   "cell_type": "code",
   "execution_count": 4,
   "id": "e5fb61b4",
   "metadata": {},
   "outputs": [
    {
     "name": "stdout",
     "output_type": "stream",
     "text": [
      "Hello from a function\n",
      "Hello from a function\n",
      "Hello from a function\n"
     ]
    }
   ],
   "source": [
    "def my_function():\n",
    "  print(\"Hello from a function\")\n",
    "\n",
    "my_function()\n",
    "my_function()\n",
    "my_function()"
   ]
  },
  {
   "cell_type": "code",
   "execution_count": 5,
   "id": "2cdb130b",
   "metadata": {},
   "outputs": [
    {
     "name": "stdout",
     "output_type": "stream",
     "text": [
      "25.0\n",
      "35.0\n",
      "10.0\n"
     ]
    }
   ],
   "source": [
    "temp1 = 77\n",
    "celsius1 = (temp1 - 32) * 5 / 9\n",
    "print(celsius1)\n",
    "\n",
    "temp2 = 95\n",
    "celsius2 = (temp2 - 32) * 5 / 9\n",
    "print(celsius2)\n",
    "\n",
    "temp3 = 50\n",
    "celsius3 = (temp3 - 32) * 5 / 9\n",
    "print(celsius3)"
   ]
  },
  {
   "cell_type": "code",
   "execution_count": 6,
   "id": "9d17c913",
   "metadata": {},
   "outputs": [
    {
     "name": "stdout",
     "output_type": "stream",
     "text": [
      "25.0\n",
      "35.0\n",
      "10.0\n"
     ]
    }
   ],
   "source": [
    "def fahrenheit_to_celsius(fahrenheit):\n",
    "  return (fahrenheit - 32) * 5 / 9\n",
    "\n",
    "print(fahrenheit_to_celsius(77))\n",
    "print(fahrenheit_to_celsius(95))\n",
    "print(fahrenheit_to_celsius(50))"
   ]
  },
  {
   "cell_type": "code",
   "execution_count": 7,
   "id": "9e90815e",
   "metadata": {},
   "outputs": [
    {
     "name": "stdout",
     "output_type": "stream",
     "text": [
      "Hello from a function\n"
     ]
    }
   ],
   "source": [
    "def get_greeting():\n",
    "  return \"Hello from a function\"\n",
    "\n",
    "message = get_greeting()\n",
    "print(message)"
   ]
  },
  {
   "cell_type": "code",
   "execution_count": 8,
   "id": "a0484f18",
   "metadata": {},
   "outputs": [
    {
     "name": "stdout",
     "output_type": "stream",
     "text": [
      "Hello from a function\n"
     ]
    }
   ],
   "source": [
    "def get_greeting():\n",
    "  return \"Hello from a function\"\n",
    "\n",
    "print(get_greeting())"
   ]
  },
  {
   "cell_type": "markdown",
   "id": "a972583d",
   "metadata": {},
   "source": [
    "Arguments\n"
   ]
  },
  {
   "cell_type": "code",
   "execution_count": 9,
   "id": "80e89d63",
   "metadata": {},
   "outputs": [
    {
     "name": "stdout",
     "output_type": "stream",
     "text": [
      "Emil Refsnes\n",
      "Tobias Refsnes\n",
      "Linus Refsnes\n"
     ]
    }
   ],
   "source": [
    "def my_function(fname):\n",
    "  print(fname + \" Refsnes\")\n",
    "\n",
    "my_function(\"Emil\")\n",
    "my_function(\"Tobias\")\n",
    "my_function(\"Linus\")"
   ]
  },
  {
   "cell_type": "code",
   "execution_count": 10,
   "id": "d5f02d6a",
   "metadata": {},
   "outputs": [
    {
     "name": "stdout",
     "output_type": "stream",
     "text": [
      "Hello Emil\n"
     ]
    }
   ],
   "source": [
    "def my_function(name): # name is a parameter\n",
    "  print(\"Hello\", name)\n",
    "\n",
    "my_function(\"Emil\") # \"Emil\" is an argument"
   ]
  },
  {
   "cell_type": "code",
   "execution_count": 11,
   "id": "7d6ddbf5",
   "metadata": {},
   "outputs": [
    {
     "name": "stdout",
     "output_type": "stream",
     "text": [
      "Emil Refsnes\n"
     ]
    }
   ],
   "source": [
    "def my_function(fname, lname):\n",
    "  print(fname + \" \" + lname)\n",
    "\n",
    "my_function(\"Emil\", \"Refsnes\")"
   ]
  },
  {
   "cell_type": "code",
   "execution_count": 12,
   "id": "bbb88c3e",
   "metadata": {},
   "outputs": [
    {
     "name": "stdout",
     "output_type": "stream",
     "text": [
      "Hello Emil\n",
      "Hello Tobias\n",
      "Hello friend\n",
      "Hello Linus\n"
     ]
    }
   ],
   "source": [
    "def my_function(name = \"friend\"):\n",
    "  print(\"Hello\", name)\n",
    "\n",
    "my_function(\"Emil\")\n",
    "my_function(\"Tobias\")\n",
    "my_function()\n",
    "my_function(\"Linus\")"
   ]
  },
  {
   "cell_type": "code",
   "execution_count": 13,
   "id": "0dd4d797",
   "metadata": {},
   "outputs": [
    {
     "name": "stdout",
     "output_type": "stream",
     "text": [
      "I am from Sweden\n",
      "I am from India\n",
      "I am from Norway\n",
      "I am from Brazil\n"
     ]
    }
   ],
   "source": [
    "def my_function(country = \"Norway\"):\n",
    "  print(\"I am from\", country)\n",
    "\n",
    "my_function(\"Sweden\")\n",
    "my_function(\"India\")\n",
    "my_function()\n",
    "my_function(\"Brazil\")"
   ]
  },
  {
   "cell_type": "markdown",
   "id": "0a45743c",
   "metadata": {},
   "source": [
    "Positional Arguments\n"
   ]
  },
  {
   "cell_type": "code",
   "execution_count": 14,
   "id": "b19daf1b",
   "metadata": {},
   "outputs": [
    {
     "name": "stdout",
     "output_type": "stream",
     "text": [
      "I have a dog\n",
      "My dog's name is Buddy\n"
     ]
    }
   ],
   "source": [
    "def my_function(animal, name):\n",
    "  print(\"I have a\", animal)\n",
    "  print(\"My\", animal + \"'s name is\", name)\n",
    "\n",
    "my_function(\"dog\", \"Buddy\")"
   ]
  },
  {
   "cell_type": "code",
   "execution_count": 15,
   "id": "1d6a04dd",
   "metadata": {},
   "outputs": [
    {
     "name": "stdout",
     "output_type": "stream",
     "text": [
      "I have a Buddy\n",
      "My Buddy's name is dog\n"
     ]
    }
   ],
   "source": [
    "def my_function(animal, name):\n",
    "  print(\"I have a\", animal)\n",
    "  print(\"My\", animal + \"'s name is\", name)\n",
    "\n",
    "my_function(\"Buddy\", \"dog\")"
   ]
  },
  {
   "cell_type": "code",
   "execution_count": 16,
   "id": "22826edf",
   "metadata": {},
   "outputs": [
    {
     "name": "stdout",
     "output_type": "stream",
     "text": [
      "I have a 5 year old dog named Buddy\n"
     ]
    }
   ],
   "source": [
    "def my_function(animal, name, age):\n",
    "  print(\"I have a\", age, \"year old\", animal, \"named\", name)\n",
    "\n",
    "my_function(\"dog\", name = \"Buddy\", age = 5)"
   ]
  },
  {
   "cell_type": "code",
   "execution_count": 17,
   "id": "b79d7796",
   "metadata": {},
   "outputs": [
    {
     "name": "stdout",
     "output_type": "stream",
     "text": [
      "apple\n",
      "banana\n",
      "cherry\n"
     ]
    }
   ],
   "source": [
    "def my_function(fruits):\n",
    "  for fruit in fruits:\n",
    "    print(fruit)\n",
    "\n",
    "my_fruits = [\"apple\", \"banana\", \"cherry\"]\n",
    "my_function(my_fruits)"
   ]
  },
  {
   "cell_type": "code",
   "execution_count": 18,
   "id": "b5dfb23f",
   "metadata": {},
   "outputs": [
    {
     "name": "stdout",
     "output_type": "stream",
     "text": [
      "Name: Emil\n",
      "Age: 25\n"
     ]
    }
   ],
   "source": [
    "def my_function(person):\n",
    "  print(\"Name:\", person[\"name\"])\n",
    "  print(\"Age:\", person[\"age\"])\n",
    "\n",
    "my_person = {\"name\": \"Emil\", \"age\": 25}\n",
    "my_function(my_person)"
   ]
  },
  {
   "cell_type": "code",
   "execution_count": null,
   "id": "39583996",
   "metadata": {},
   "outputs": [],
   "source": []
  }
 ],
 "metadata": {
  "kernelspec": {
   "display_name": "Python 3",
   "language": "python",
   "name": "python3"
  },
  "language_info": {
   "codemirror_mode": {
    "name": "ipython",
    "version": 3
   },
   "file_extension": ".py",
   "mimetype": "text/x-python",
   "name": "python",
   "nbconvert_exporter": "python",
   "pygments_lexer": "ipython3",
   "version": "3.12.7"
  }
 },
 "nbformat": 4,
 "nbformat_minor": 5
}
