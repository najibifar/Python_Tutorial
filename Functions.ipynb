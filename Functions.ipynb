{
 "cells": [
  {
   "cell_type": "markdown",
   "id": "9c62e236",
   "metadata": {},
   "source": [
    "Python Functions\n"
   ]
  },
  {
   "cell_type": "code",
   "execution_count": 1,
   "id": "8c46b32f",
   "metadata": {},
   "outputs": [],
   "source": [
    "def greet():\n",
    "  print(\"Hello from a function\")"
   ]
  },
  {
   "cell_type": "code",
   "execution_count": 2,
   "id": "15189bae",
   "metadata": {},
   "outputs": [
    {
     "name": "stdout",
     "output_type": "stream",
     "text": [
      "Hello from a function\n"
     ]
    }
   ],
   "source": [
    "def my_function():\n",
    "  print(\"Hello from a function\")\n",
    "\n",
    "my_function()"
   ]
  },
  {
   "cell_type": "code",
   "execution_count": 3,
   "id": "e5fb61b4",
   "metadata": {},
   "outputs": [
    {
     "name": "stdout",
     "output_type": "stream",
     "text": [
      "Hello from a function\n",
      "Hello from a function\n",
      "Hello from a function\n"
     ]
    }
   ],
   "source": [
    "def my_function():\n",
    "  print(\"Hello from a function\")\n",
    "\n",
    "my_function()\n",
    "my_function()\n",
    "my_function()"
   ]
  },
  {
   "cell_type": "code",
   "execution_count": 4,
   "id": "2cdb130b",
   "metadata": {},
   "outputs": [
    {
     "name": "stdout",
     "output_type": "stream",
     "text": [
      "25.0\n",
      "35.0\n",
      "10.0\n"
     ]
    }
   ],
   "source": [
    "temp1 = 77\n",
    "celsius1 = (temp1 - 32) * 5 / 9\n",
    "print(celsius1)\n",
    "\n",
    "temp2 = 95\n",
    "celsius2 = (temp2 - 32) * 5 / 9\n",
    "print(celsius2)\n",
    "\n",
    "temp3 = 50\n",
    "celsius3 = (temp3 - 32) * 5 / 9\n",
    "print(celsius3)"
   ]
  },
  {
   "cell_type": "code",
   "execution_count": 5,
   "id": "9d17c913",
   "metadata": {},
   "outputs": [
    {
     "name": "stdout",
     "output_type": "stream",
     "text": [
      "25.0\n",
      "35.0\n",
      "10.0\n"
     ]
    }
   ],
   "source": [
    "def fahrenheit_to_celsius(fahrenheit):\n",
    "  return (fahrenheit - 32) * 5 / 9\n",
    "\n",
    "print(fahrenheit_to_celsius(77))\n",
    "print(fahrenheit_to_celsius(95))\n",
    "print(fahrenheit_to_celsius(50))"
   ]
  },
  {
   "cell_type": "code",
   "execution_count": 6,
   "id": "9e90815e",
   "metadata": {},
   "outputs": [
    {
     "name": "stdout",
     "output_type": "stream",
     "text": [
      "Hello from a function\n"
     ]
    }
   ],
   "source": [
    "def get_greeting():\n",
    "  return \"Hello from a function\"\n",
    "\n",
    "message = get_greeting()\n",
    "print(message)"
   ]
  },
  {
   "cell_type": "code",
   "execution_count": 7,
   "id": "a0484f18",
   "metadata": {},
   "outputs": [
    {
     "name": "stdout",
     "output_type": "stream",
     "text": [
      "Hello from a function\n"
     ]
    }
   ],
   "source": [
    "def get_greeting():\n",
    "  return \"Hello from a function\"\n",
    "\n",
    "print(get_greeting())"
   ]
  },
  {
   "cell_type": "markdown",
   "id": "a972583d",
   "metadata": {},
   "source": [
    "Arguments\n"
   ]
  },
  {
   "cell_type": "code",
   "execution_count": 8,
   "id": "80e89d63",
   "metadata": {},
   "outputs": [
    {
     "name": "stdout",
     "output_type": "stream",
     "text": [
      "Emil Refsnes\n",
      "Tobias Refsnes\n",
      "Linus Refsnes\n"
     ]
    }
   ],
   "source": [
    "def my_function(fname):\n",
    "  print(fname + \" Refsnes\")\n",
    "\n",
    "my_function(\"Emil\")\n",
    "my_function(\"Tobias\")\n",
    "my_function(\"Linus\")"
   ]
  },
  {
   "cell_type": "code",
   "execution_count": 9,
   "id": "d5f02d6a",
   "metadata": {},
   "outputs": [
    {
     "name": "stdout",
     "output_type": "stream",
     "text": [
      "Hello Emil\n"
     ]
    }
   ],
   "source": [
    "def my_function(name): # name is a parameter\n",
    "  print(\"Hello\", name)\n",
    "\n",
    "my_function(\"Emil\") # \"Emil\" is an argument"
   ]
  },
  {
   "cell_type": "code",
   "execution_count": 10,
   "id": "7d6ddbf5",
   "metadata": {},
   "outputs": [
    {
     "name": "stdout",
     "output_type": "stream",
     "text": [
      "Emil Refsnes\n"
     ]
    }
   ],
   "source": [
    "def my_function(fname, lname):\n",
    "  print(fname + \" \" + lname)\n",
    "\n",
    "my_function(\"Emil\", \"Refsnes\")"
   ]
  },
  {
   "cell_type": "code",
   "execution_count": 11,
   "id": "bbb88c3e",
   "metadata": {},
   "outputs": [
    {
     "name": "stdout",
     "output_type": "stream",
     "text": [
      "Hello Emil\n",
      "Hello Tobias\n",
      "Hello friend\n",
      "Hello Linus\n"
     ]
    }
   ],
   "source": [
    "def my_function(name = \"friend\"):\n",
    "  print(\"Hello\", name)\n",
    "\n",
    "my_function(\"Emil\")\n",
    "my_function(\"Tobias\")\n",
    "my_function()\n",
    "my_function(\"Linus\")"
   ]
  },
  {
   "cell_type": "code",
   "execution_count": 12,
   "id": "0dd4d797",
   "metadata": {},
   "outputs": [
    {
     "name": "stdout",
     "output_type": "stream",
     "text": [
      "I am from Sweden\n",
      "I am from India\n",
      "I am from Norway\n",
      "I am from Brazil\n"
     ]
    }
   ],
   "source": [
    "def my_function(country = \"Norway\"):\n",
    "  print(\"I am from\", country)\n",
    "\n",
    "my_function(\"Sweden\")\n",
    "my_function(\"India\")\n",
    "my_function()\n",
    "my_function(\"Brazil\")"
   ]
  },
  {
   "cell_type": "markdown",
   "id": "0a45743c",
   "metadata": {},
   "source": [
    "Positional Arguments\n"
   ]
  },
  {
   "cell_type": "code",
   "execution_count": 13,
   "id": "b19daf1b",
   "metadata": {},
   "outputs": [
    {
     "name": "stdout",
     "output_type": "stream",
     "text": [
      "I have a dog\n",
      "My dog's name is Buddy\n"
     ]
    }
   ],
   "source": [
    "def my_function(animal, name):\n",
    "  print(\"I have a\", animal)\n",
    "  print(\"My\", animal + \"'s name is\", name)\n",
    "\n",
    "my_function(\"dog\", \"Buddy\")"
   ]
  },
  {
   "cell_type": "code",
   "execution_count": 14,
   "id": "1d6a04dd",
   "metadata": {},
   "outputs": [
    {
     "name": "stdout",
     "output_type": "stream",
     "text": [
      "I have a Buddy\n",
      "My Buddy's name is dog\n"
     ]
    }
   ],
   "source": [
    "def my_function(animal, name):\n",
    "  print(\"I have a\", animal)\n",
    "  print(\"My\", animal + \"'s name is\", name)\n",
    "\n",
    "my_function(\"Buddy\", \"dog\")"
   ]
  },
  {
   "cell_type": "code",
   "execution_count": 15,
   "id": "22826edf",
   "metadata": {},
   "outputs": [
    {
     "name": "stdout",
     "output_type": "stream",
     "text": [
      "I have a 5 year old dog named Buddy\n"
     ]
    }
   ],
   "source": [
    "def my_function(animal, name, age):\n",
    "  print(\"I have a\", age, \"year old\", animal, \"named\", name)\n",
    "\n",
    "my_function(\"dog\", name = \"Buddy\", age = 5)"
   ]
  },
  {
   "cell_type": "code",
   "execution_count": 16,
   "id": "b79d7796",
   "metadata": {},
   "outputs": [
    {
     "name": "stdout",
     "output_type": "stream",
     "text": [
      "apple\n",
      "banana\n",
      "cherry\n"
     ]
    }
   ],
   "source": [
    "def my_function(fruits):\n",
    "  for fruit in fruits:\n",
    "    print(fruit)\n",
    "\n",
    "my_fruits = [\"apple\", \"banana\", \"cherry\"]\n",
    "my_function(my_fruits)"
   ]
  },
  {
   "cell_type": "code",
   "execution_count": 17,
   "id": "b5dfb23f",
   "metadata": {},
   "outputs": [
    {
     "name": "stdout",
     "output_type": "stream",
     "text": [
      "Name: Emil\n",
      "Age: 25\n"
     ]
    }
   ],
   "source": [
    "def my_function(person):\n",
    "  print(\"Name:\", person[\"name\"])\n",
    "  print(\"Age:\", person[\"age\"])\n",
    "\n",
    "my_person = {\"name\": \"Emil\", \"age\": 25}\n",
    "my_function(my_person)"
   ]
  },
  {
   "cell_type": "markdown",
   "id": "04322f00",
   "metadata": {},
   "source": [
    "Return Values\n"
   ]
  },
  {
   "cell_type": "code",
   "execution_count": 18,
   "id": "39583996",
   "metadata": {},
   "outputs": [
    {
     "name": "stdout",
     "output_type": "stream",
     "text": [
      "8\n"
     ]
    }
   ],
   "source": [
    "def my_function(x, y):\n",
    "  return x + y\n",
    "\n",
    "result = my_function(5, 3)\n",
    "print(result)"
   ]
  },
  {
   "cell_type": "code",
   "execution_count": 19,
   "id": "d69e20a7",
   "metadata": {},
   "outputs": [
    {
     "name": "stdout",
     "output_type": "stream",
     "text": [
      "apple\n",
      "banana\n",
      "cherry\n"
     ]
    }
   ],
   "source": [
    "def my_function():\n",
    "  return [\"apple\", \"banana\", \"cherry\"]\n",
    "\n",
    "fruits = my_function()\n",
    "print(fruits[0])\n",
    "print(fruits[1])\n",
    "print(fruits[2])"
   ]
  },
  {
   "cell_type": "code",
   "execution_count": 20,
   "id": "8ebec10e",
   "metadata": {},
   "outputs": [
    {
     "name": "stdout",
     "output_type": "stream",
     "text": [
      "x: 10\n",
      "y: 20\n"
     ]
    }
   ],
   "source": [
    "def my_function():\n",
    "  return (10, 20)\n",
    "\n",
    "x, y = my_function()\n",
    "print(\"x:\", x)\n",
    "print(\"y:\", y)"
   ]
  },
  {
   "cell_type": "code",
   "execution_count": 21,
   "id": "c2eb11c1",
   "metadata": {},
   "outputs": [
    {
     "name": "stdout",
     "output_type": "stream",
     "text": [
      "Hello Emil\n"
     ]
    }
   ],
   "source": [
    "def my_function(name, /):\n",
    "  print(\"Hello\", name)\n",
    "\n",
    "my_function(\"Emil\")"
   ]
  },
  {
   "cell_type": "code",
   "execution_count": 22,
   "id": "55ad9089",
   "metadata": {},
   "outputs": [
    {
     "name": "stdout",
     "output_type": "stream",
     "text": [
      "50\n"
     ]
    }
   ],
   "source": [
    "def my_function(a, b, /, *, c, d):\n",
    "  return a + b + c + d\n",
    "\n",
    "result = my_function(5, 10, c = 15, d = 20)\n",
    "print(result)"
   ]
  },
  {
   "cell_type": "code",
   "execution_count": 23,
   "id": "f3dfe1dd",
   "metadata": {},
   "outputs": [
    {
     "name": "stdout",
     "output_type": "stream",
     "text": [
      "Hello Emil\n"
     ]
    }
   ],
   "source": [
    "def my_function(*, name):\n",
    "  print(\"Hello\", name)\n",
    "\n",
    "my_function(name = \"Emil\")"
   ]
  },
  {
   "cell_type": "markdown",
   "id": "da7106c5",
   "metadata": {},
   "source": [
    "*args and **kwargs\n"
   ]
  },
  {
   "cell_type": "code",
   "execution_count": 24,
   "id": "390c05fa",
   "metadata": {},
   "outputs": [
    {
     "name": "stdout",
     "output_type": "stream",
     "text": [
      "The youngest child is Linus\n"
     ]
    }
   ],
   "source": [
    "def my_function(*kids):\n",
    "  print(\"The youngest child is \" + kids[2])\n",
    "\n",
    "my_function(\"Emil\", \"Tobias\", \"Linus\")"
   ]
  },
  {
   "cell_type": "code",
   "execution_count": 25,
   "id": "a6321c12",
   "metadata": {},
   "outputs": [
    {
     "name": "stdout",
     "output_type": "stream",
     "text": [
      "Type: <class 'tuple'>\n",
      "First argument: Emil\n",
      "Second argument: Tobias\n",
      "All arguments: ('Emil', 'Tobias', 'Linus')\n"
     ]
    }
   ],
   "source": [
    "def my_function(*args):\n",
    "  print(\"Type:\", type(args))\n",
    "  print(\"First argument:\", args[0])\n",
    "  print(\"Second argument:\", args[1])\n",
    "  print(\"All arguments:\", args)\n",
    "\n",
    "my_function(\"Emil\", \"Tobias\", \"Linus\")"
   ]
  },
  {
   "cell_type": "code",
   "execution_count": 26,
   "id": "b57c9e12",
   "metadata": {},
   "outputs": [
    {
     "name": "stdout",
     "output_type": "stream",
     "text": [
      "Hello Emil\n",
      "Hello Tobias\n",
      "Hello Linus\n"
     ]
    }
   ],
   "source": [
    "def my_function(greeting, *names):\n",
    "  for name in names:\n",
    "    print(greeting, name)\n",
    "\n",
    "my_function(\"Hello\", \"Emil\", \"Tobias\", \"Linus\")"
   ]
  },
  {
   "cell_type": "code",
   "execution_count": 27,
   "id": "a314530a",
   "metadata": {},
   "outputs": [
    {
     "name": "stdout",
     "output_type": "stream",
     "text": [
      "6\n",
      "100\n",
      "5\n"
     ]
    }
   ],
   "source": [
    "def my_function(*numbers):\n",
    "  total = 0\n",
    "  for num in numbers:\n",
    "    total += num\n",
    "  return total\n",
    "\n",
    "print(my_function(1, 2, 3))\n",
    "print(my_function(10, 20, 30, 40))\n",
    "print(my_function(5))"
   ]
  },
  {
   "cell_type": "code",
   "execution_count": 28,
   "id": "87d9ff84",
   "metadata": {},
   "outputs": [
    {
     "name": "stdout",
     "output_type": "stream",
     "text": [
      "9\n"
     ]
    }
   ],
   "source": [
    "def my_function(*numbers):\n",
    "  if len(numbers) == 0:\n",
    "    return None\n",
    "  max_num = numbers[0]\n",
    "  for num in numbers:\n",
    "    if num > max_num:\n",
    "      max_num = num\n",
    "  return max_num\n",
    "\n",
    "print(my_function(3, 7, 2, 9, 1))"
   ]
  },
  {
   "cell_type": "code",
   "execution_count": 29,
   "id": "db9af48b",
   "metadata": {},
   "outputs": [
    {
     "name": "stdout",
     "output_type": "stream",
     "text": [
      "His last name is Refsnes\n"
     ]
    }
   ],
   "source": [
    "def my_function(**kid):\n",
    "  print(\"His last name is \" + kid[\"lname\"])\n",
    "\n",
    "my_function(fname = \"Tobias\", lname = \"Refsnes\")"
   ]
  },
  {
   "cell_type": "markdown",
   "id": "a53245fa",
   "metadata": {},
   "source": [
    "What is **kwargs?\n"
   ]
  },
  {
   "cell_type": "code",
   "execution_count": 30,
   "id": "b4f46aa3",
   "metadata": {},
   "outputs": [
    {
     "name": "stdout",
     "output_type": "stream",
     "text": [
      "Type: <class 'dict'>\n",
      "Name: Tobias\n",
      "Age: 30\n",
      "All data: {'name': 'Tobias', 'age': 30, 'city': 'Bergen'}\n"
     ]
    }
   ],
   "source": [
    "def my_function(**myvar):\n",
    "  print(\"Type:\", type(myvar))\n",
    "  print(\"Name:\", myvar[\"name\"])\n",
    "  print(\"Age:\", myvar[\"age\"])\n",
    "  print(\"All data:\", myvar)\n",
    "\n",
    "my_function(name = \"Tobias\", age = 30, city = \"Bergen\")"
   ]
  },
  {
   "cell_type": "code",
   "execution_count": 31,
   "id": "6002fbda",
   "metadata": {},
   "outputs": [
    {
     "name": "stdout",
     "output_type": "stream",
     "text": [
      "Username: emil123\n",
      "Additional details:\n",
      "  age: 25\n",
      "  city: Oslo\n",
      "  hobby: coding\n"
     ]
    }
   ],
   "source": [
    "def my_function(username, **details):\n",
    "  print(\"Username:\", username)\n",
    "  print(\"Additional details:\")\n",
    "  for key, value in details.items():\n",
    "    print(\" \", key + \":\", value)\n",
    "\n",
    "my_function(\"emil123\", age = 25, city = \"Oslo\", hobby = \"coding\")"
   ]
  },
  {
   "cell_type": "code",
   "execution_count": 32,
   "id": "8f62c496",
   "metadata": {},
   "outputs": [
    {
     "name": "stdout",
     "output_type": "stream",
     "text": [
      "Title: User Info\n",
      "Positional arguments: ('Emil', 'Tobias')\n",
      "Keyword arguments: {'age': 25, 'city': 'Oslo'}\n"
     ]
    }
   ],
   "source": [
    "def my_function(title, *args, **kwargs):\n",
    "  print(\"Title:\", title)\n",
    "  print(\"Positional arguments:\", args)\n",
    "  print(\"Keyword arguments:\", kwargs)\n",
    "\n",
    "my_function(\"User Info\", \"Emil\", \"Tobias\", age = 25, city = \"Oslo\")"
   ]
  },
  {
   "cell_type": "code",
   "execution_count": 33,
   "id": "c3a55e95",
   "metadata": {},
   "outputs": [
    {
     "name": "stdout",
     "output_type": "stream",
     "text": [
      "6\n"
     ]
    }
   ],
   "source": [
    "def my_function(a, b, c):\n",
    "  return a + b + c\n",
    "\n",
    "numbers = [1, 2, 3]\n",
    "result = my_function(*numbers) # Same as: my_function(1, 2, 3)\n",
    "print(result)"
   ]
  },
  {
   "cell_type": "code",
   "execution_count": 34,
   "id": "4a0c8c0d",
   "metadata": {},
   "outputs": [
    {
     "name": "stdout",
     "output_type": "stream",
     "text": [
      "Hello Emil Refsnes\n"
     ]
    }
   ],
   "source": [
    "def my_function(fname, lname):\n",
    "  print(\"Hello\", fname, lname)\n",
    "\n",
    "person = {\"fname\": \"Emil\", \"lname\": \"Refsnes\"}\n",
    "my_function(**person) # Same as: my_function(fname=\"Emil\", lname=\"Refsnes\")"
   ]
  },
  {
   "cell_type": "markdown",
   "id": "1a4053b0",
   "metadata": {},
   "source": [
    "Local Scope\n"
   ]
  },
  {
   "cell_type": "code",
   "execution_count": 35,
   "id": "12c95699",
   "metadata": {},
   "outputs": [
    {
     "name": "stdout",
     "output_type": "stream",
     "text": [
      "300\n"
     ]
    }
   ],
   "source": [
    "def myfunc():\n",
    "  x = 300\n",
    "  print(x)\n",
    "\n",
    "myfunc()"
   ]
  },
  {
   "cell_type": "code",
   "execution_count": 36,
   "id": "199dff2b",
   "metadata": {},
   "outputs": [
    {
     "name": "stdout",
     "output_type": "stream",
     "text": [
      "300\n"
     ]
    }
   ],
   "source": [
    "def myfunc():\n",
    "  x = 300\n",
    "  def myinnerfunc():\n",
    "    print(x)\n",
    "  myinnerfunc()\n",
    "\n",
    "myfunc()"
   ]
  },
  {
   "cell_type": "code",
   "execution_count": 37,
   "id": "116f8931",
   "metadata": {},
   "outputs": [
    {
     "name": "stdout",
     "output_type": "stream",
     "text": [
      "200\n",
      "300\n"
     ]
    }
   ],
   "source": [
    "x = 300\n",
    "\n",
    "def myfunc():\n",
    "  x = 200\n",
    "  print(x)\n",
    "\n",
    "myfunc()\n",
    "\n",
    "print(x)"
   ]
  },
  {
   "cell_type": "code",
   "execution_count": 38,
   "id": "781875f7",
   "metadata": {},
   "outputs": [
    {
     "name": "stdout",
     "output_type": "stream",
     "text": [
      "300\n"
     ]
    }
   ],
   "source": [
    "def myfunc():\n",
    "  global x\n",
    "  x = 300\n",
    "\n",
    "myfunc()\n",
    "\n",
    "print(x)"
   ]
  },
  {
   "cell_type": "code",
   "execution_count": 39,
   "id": "d686f626",
   "metadata": {},
   "outputs": [
    {
     "name": "stdout",
     "output_type": "stream",
     "text": [
      "hello\n"
     ]
    }
   ],
   "source": [
    "def myfunc1():\n",
    "  x = \"Jane\"\n",
    "  def myfunc2():\n",
    "    nonlocal x\n",
    "    x = \"hello\"\n",
    "  myfunc2()\n",
    "  return x\n",
    "\n",
    "print(myfunc1())"
   ]
  },
  {
   "cell_type": "code",
   "execution_count": 40,
   "id": "1bb70dbe",
   "metadata": {},
   "outputs": [
    {
     "name": "stdout",
     "output_type": "stream",
     "text": [
      "Inner: local\n",
      "Outer: enclosing\n",
      "Global: global\n"
     ]
    }
   ],
   "source": [
    "x = \"global\"\n",
    "\n",
    "def outer():\n",
    "  x = \"enclosing\"\n",
    "  def inner():\n",
    "    x = \"local\"\n",
    "    print(\"Inner:\", x)\n",
    "  inner()\n",
    "  print(\"Outer:\", x)\n",
    "\n",
    "outer()\n",
    "print(\"Global:\", x)"
   ]
  },
  {
   "cell_type": "markdown",
   "id": "a1aaf1c0",
   "metadata": {},
   "source": [
    "Decorators"
   ]
  },
  {
   "cell_type": "code",
   "execution_count": 41,
   "id": "71cea31c",
   "metadata": {},
   "outputs": [
    {
     "name": "stdout",
     "output_type": "stream",
     "text": [
      "HELLO SALLY\n"
     ]
    }
   ],
   "source": [
    "def changecase(func):\n",
    "  def myinner():\n",
    "    return func().upper()\n",
    "  return myinner\n",
    "\n",
    "@changecase\n",
    "def myfunction():\n",
    "  return \"Hello Sally\"\n",
    "\n",
    "print(myfunction())"
   ]
  },
  {
   "cell_type": "code",
   "execution_count": 42,
   "id": "7eee11d6",
   "metadata": {},
   "outputs": [
    {
     "name": "stdout",
     "output_type": "stream",
     "text": [
      "HELLO SALLY\n",
      "I AM SPEED!\n"
     ]
    }
   ],
   "source": [
    "def changecase(func):\n",
    "  def myinner():\n",
    "    return func().upper()\n",
    "  return myinner\n",
    "\n",
    "@changecase\n",
    "def myfunction():\n",
    "  return \"Hello Sally\"\n",
    "\n",
    "@changecase\n",
    "def otherfunction():\n",
    "  return \"I am speed!\"\n",
    "\n",
    "print(myfunction())\n",
    "print(otherfunction())"
   ]
  },
  {
   "cell_type": "code",
   "execution_count": 43,
   "id": "26ced948",
   "metadata": {},
   "outputs": [
    {
     "name": "stdout",
     "output_type": "stream",
     "text": [
      "HELLO JOHN\n"
     ]
    }
   ],
   "source": [
    "def changecase(func):\n",
    "  def myinner(x):\n",
    "    return func(x).upper()\n",
    "  return myinner\n",
    "\n",
    "@changecase\n",
    "def myfunction(nam):\n",
    "  return \"Hello \" + nam\n",
    "\n",
    "print(myfunction(\"John\"))"
   ]
  },
  {
   "cell_type": "code",
   "execution_count": 44,
   "id": "550d11b7",
   "metadata": {},
   "outputs": [
    {
     "name": "stdout",
     "output_type": "stream",
     "text": [
      "HELLO JOHN\n"
     ]
    }
   ],
   "source": [
    "def changecase(func):\n",
    "  def myinner(*args, **kwargs):\n",
    "    return func(*args, **kwargs).upper()\n",
    "  return myinner\n",
    "\n",
    "@changecase\n",
    "def myfunction(nam):\n",
    "  return \"Hello \" + nam\n",
    "\n",
    "print(myfunction(\"John\"))"
   ]
  },
  {
   "cell_type": "code",
   "execution_count": null,
   "id": "560192a1",
   "metadata": {},
   "outputs": [],
   "source": []
  }
 ],
 "metadata": {
  "kernelspec": {
   "display_name": "Python 3",
   "language": "python",
   "name": "python3"
  },
  "language_info": {
   "codemirror_mode": {
    "name": "ipython",
    "version": 3
   },
   "file_extension": ".py",
   "mimetype": "text/x-python",
   "name": "python",
   "nbconvert_exporter": "python",
   "pygments_lexer": "ipython3",
   "version": "3.12.7"
  }
 },
 "nbformat": 4,
 "nbformat_minor": 5
}
