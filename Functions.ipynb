{
 "cells": [
  {
   "cell_type": "markdown",
   "id": "9c62e236",
   "metadata": {},
   "source": [
    "Python Functions\n"
   ]
  },
  {
   "cell_type": "code",
   "execution_count": 1,
   "id": "8c46b32f",
   "metadata": {},
   "outputs": [],
   "source": [
    "def greet():\n",
    "  print(\"Hello from a function\")"
   ]
  },
  {
   "cell_type": "code",
   "execution_count": 2,
   "id": "15189bae",
   "metadata": {},
   "outputs": [
    {
     "name": "stdout",
     "output_type": "stream",
     "text": [
      "Hello from a function\n"
     ]
    }
   ],
   "source": [
    "def my_function():\n",
    "  print(\"Hello from a function\")\n",
    "\n",
    "my_function()"
   ]
  },
  {
   "cell_type": "code",
   "execution_count": 3,
   "id": "e5fb61b4",
   "metadata": {},
   "outputs": [
    {
     "name": "stdout",
     "output_type": "stream",
     "text": [
      "Hello from a function\n",
      "Hello from a function\n",
      "Hello from a function\n"
     ]
    }
   ],
   "source": [
    "def my_function():\n",
    "  print(\"Hello from a function\")\n",
    "\n",
    "my_function()\n",
    "my_function()\n",
    "my_function()"
   ]
  },
  {
   "cell_type": "code",
   "execution_count": 4,
   "id": "2cdb130b",
   "metadata": {},
   "outputs": [
    {
     "name": "stdout",
     "output_type": "stream",
     "text": [
      "25.0\n",
      "35.0\n",
      "10.0\n"
     ]
    }
   ],
   "source": [
    "temp1 = 77\n",
    "celsius1 = (temp1 - 32) * 5 / 9\n",
    "print(celsius1)\n",
    "\n",
    "temp2 = 95\n",
    "celsius2 = (temp2 - 32) * 5 / 9\n",
    "print(celsius2)\n",
    "\n",
    "temp3 = 50\n",
    "celsius3 = (temp3 - 32) * 5 / 9\n",
    "print(celsius3)"
   ]
  },
  {
   "cell_type": "code",
   "execution_count": 5,
   "id": "9d17c913",
   "metadata": {},
   "outputs": [
    {
     "name": "stdout",
     "output_type": "stream",
     "text": [
      "25.0\n",
      "35.0\n",
      "10.0\n"
     ]
    }
   ],
   "source": [
    "def fahrenheit_to_celsius(fahrenheit):\n",
    "  return (fahrenheit - 32) * 5 / 9\n",
    "\n",
    "print(fahrenheit_to_celsius(77))\n",
    "print(fahrenheit_to_celsius(95))\n",
    "print(fahrenheit_to_celsius(50))"
   ]
  },
  {
   "cell_type": "code",
   "execution_count": 6,
   "id": "9e90815e",
   "metadata": {},
   "outputs": [
    {
     "name": "stdout",
     "output_type": "stream",
     "text": [
      "Hello from a function\n"
     ]
    }
   ],
   "source": [
    "def get_greeting():\n",
    "  return \"Hello from a function\"\n",
    "\n",
    "message = get_greeting()\n",
    "print(message)"
   ]
  },
  {
   "cell_type": "code",
   "execution_count": 7,
   "id": "a0484f18",
   "metadata": {},
   "outputs": [
    {
     "name": "stdout",
     "output_type": "stream",
     "text": [
      "Hello from a function\n"
     ]
    }
   ],
   "source": [
    "def get_greeting():\n",
    "  return \"Hello from a function\"\n",
    "\n",
    "print(get_greeting())"
   ]
  },
  {
   "cell_type": "code",
   "execution_count": null,
   "id": "80e89d63",
   "metadata": {},
   "outputs": [],
   "source": []
  }
 ],
 "metadata": {
  "kernelspec": {
   "display_name": "Python 3",
   "language": "python",
   "name": "python3"
  },
  "language_info": {
   "codemirror_mode": {
    "name": "ipython",
    "version": 3
   },
   "file_extension": ".py",
   "mimetype": "text/x-python",
   "name": "python",
   "nbconvert_exporter": "python",
   "pygments_lexer": "ipython3",
   "version": "3.12.7"
  }
 },
 "nbformat": 4,
 "nbformat_minor": 5
}
