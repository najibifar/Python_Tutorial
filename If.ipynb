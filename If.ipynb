{
 "cells": [
  {
   "cell_type": "markdown",
   "id": "f914a932",
   "metadata": {},
   "source": [
    "If Statement"
   ]
  },
  {
   "cell_type": "code",
   "execution_count": 1,
   "id": "dc467d61",
   "metadata": {},
   "outputs": [
    {
     "name": "stdout",
     "output_type": "stream",
     "text": [
      "b is greater than a\n"
     ]
    }
   ],
   "source": [
    "a = 33\n",
    "b = 200\n",
    "if b > a:\n",
    "  print(\"b is greater than a\")"
   ]
  },
  {
   "cell_type": "code",
   "execution_count": 2,
   "id": "3a332b98",
   "metadata": {},
   "outputs": [
    {
     "name": "stdout",
     "output_type": "stream",
     "text": [
      "The number is positive\n"
     ]
    }
   ],
   "source": [
    "number = 15\n",
    "if number > 0:\n",
    "  print(\"The number is positive\")"
   ]
  },
  {
   "cell_type": "code",
   "execution_count": 3,
   "id": "c99380fe",
   "metadata": {},
   "outputs": [
    {
     "name": "stdout",
     "output_type": "stream",
     "text": [
      "You are an adult\n",
      "You can vote\n",
      "You have full legal rights\n"
     ]
    }
   ],
   "source": [
    "age = 20\n",
    "if age >= 18:\n",
    "  print(\"You are an adult\")\n",
    "  print(\"You can vote\")\n",
    "  print(\"You have full legal rights\")"
   ]
  },
  {
   "cell_type": "code",
   "execution_count": 4,
   "id": "da20b47a",
   "metadata": {},
   "outputs": [
    {
     "name": "stdout",
     "output_type": "stream",
     "text": [
      "Welcome back!\n"
     ]
    }
   ],
   "source": [
    "is_logged_in = True\n",
    "if is_logged_in:\n",
    "  print(\"Welcome back!\")"
   ]
  },
  {
   "cell_type": "markdown",
   "id": "dfe24adc",
   "metadata": {},
   "source": [
    "Elif Statement"
   ]
  },
  {
   "cell_type": "code",
   "execution_count": 5,
   "id": "4ece6b08",
   "metadata": {},
   "outputs": [
    {
     "name": "stdout",
     "output_type": "stream",
     "text": [
      "a and b are equal\n"
     ]
    }
   ],
   "source": [
    "a = 33\n",
    "b = 33\n",
    "if b > a:\n",
    "  print(\"b is greater than a\")\n",
    "elif a == b:\n",
    "  print(\"a and b are equal\")"
   ]
  },
  {
   "cell_type": "code",
   "execution_count": 6,
   "id": "b38da4ca",
   "metadata": {},
   "outputs": [
    {
     "name": "stdout",
     "output_type": "stream",
     "text": [
      "Grade: C\n"
     ]
    }
   ],
   "source": [
    "score = 75\n",
    "\n",
    "if score >= 90:\n",
    "  print(\"Grade: A\")\n",
    "elif score >= 80:\n",
    "  print(\"Grade: B\")\n",
    "elif score >= 70:\n",
    "  print(\"Grade: C\")\n",
    "elif score >= 60:\n",
    "  print(\"Grade: D\")\n",
    "  "
   ]
  },
  {
   "cell_type": "code",
   "execution_count": 7,
   "id": "a4f71808",
   "metadata": {},
   "outputs": [
    {
     "name": "stdout",
     "output_type": "stream",
     "text": [
      "You are an adult\n"
     ]
    }
   ],
   "source": [
    "age = 25\n",
    "\n",
    "if age < 13:\n",
    "  print(\"You are a child\")\n",
    "elif age < 20:\n",
    "  print(\"You are a teenager\")\n",
    "elif age < 65:\n",
    "  print(\"You are an adult\")\n",
    "elif age >= 65:\n",
    "  print(\"You are a senior\")\n",
    "  "
   ]
  },
  {
   "cell_type": "code",
   "execution_count": 8,
   "id": "00c77ccb",
   "metadata": {},
   "outputs": [
    {
     "name": "stdout",
     "output_type": "stream",
     "text": [
      "Wednesday\n"
     ]
    }
   ],
   "source": [
    "day = 3\n",
    "\n",
    "if day == 1:\n",
    "  print(\"Monday\")\n",
    "elif day == 2:\n",
    "  print(\"Tuesday\")\n",
    "elif day == 3:\n",
    "  print(\"Wednesday\")\n",
    "elif day == 4:\n",
    "  print(\"Thursday\")\n",
    "elif day == 5:\n",
    "  print(\"Friday\")\n",
    "elif day == 6:\n",
    "  print(\"Saturday\")\n",
    "elif day == 7:\n",
    "  print(\"Sunday\")"
   ]
  },
  {
   "cell_type": "markdown",
   "id": "a88648d9",
   "metadata": {},
   "source": [
    "Else Statement"
   ]
  },
  {
   "cell_type": "code",
   "execution_count": 9,
   "id": "b3a02303",
   "metadata": {},
   "outputs": [
    {
     "name": "stdout",
     "output_type": "stream",
     "text": [
      "a is greater than b\n"
     ]
    }
   ],
   "source": [
    "a = 200\n",
    "b = 33\n",
    "if b > a:\n",
    "  print(\"b is greater than a\")\n",
    "elif a == b:\n",
    "  print(\"a and b are equal\")\n",
    "else:\n",
    "  print(\"a is greater than b\")"
   ]
  },
  {
   "cell_type": "code",
   "execution_count": 10,
   "id": "1b6d20cd",
   "metadata": {},
   "outputs": [
    {
     "name": "stdout",
     "output_type": "stream",
     "text": [
      "b is not greater than a\n"
     ]
    }
   ],
   "source": [
    "a = 200\n",
    "b = 33\n",
    "if b > a:\n",
    "  print(\"b is greater than a\")\n",
    "else:\n",
    "  print(\"b is not greater than a\")"
   ]
  },
  {
   "cell_type": "code",
   "execution_count": 11,
   "id": "be07e3f4",
   "metadata": {},
   "outputs": [
    {
     "name": "stdout",
     "output_type": "stream",
     "text": [
      "The number is odd\n"
     ]
    }
   ],
   "source": [
    "number = 7\n",
    "\n",
    "if number % 2 == 0:\n",
    "  print(\"The number is even\")\n",
    "else:\n",
    "  print(\"The number is odd\")"
   ]
  },
  {
   "cell_type": "code",
   "execution_count": 12,
   "id": "55b30636",
   "metadata": {},
   "outputs": [
    {
     "name": "stdout",
     "output_type": "stream",
     "text": [
      "It's warm outside\n"
     ]
    }
   ],
   "source": [
    "temperature = 22\n",
    "\n",
    "if temperature > 30:\n",
    "  print(\"It's hot outside!\")\n",
    "elif temperature > 20:\n",
    "  print(\"It's warm outside\")\n",
    "elif temperature > 10:\n",
    "  print(\"It's cool outside\")\n",
    "else:\n",
    "  print(\"It's cold outside!\")"
   ]
  },
  {
   "cell_type": "code",
   "execution_count": 13,
   "id": "4508dccc",
   "metadata": {},
   "outputs": [
    {
     "name": "stdout",
     "output_type": "stream",
     "text": [
      "Welcome, Emil!\n"
     ]
    }
   ],
   "source": [
    "username = \"Emil\"\n",
    "\n",
    "if len(username) > 0:\n",
    "  print(f\"Welcome, {username}!\")\n",
    "else:\n",
    "  print(\"Error: Username cannot be empty\")"
   ]
  },
  {
   "cell_type": "markdown",
   "id": "e90064b1",
   "metadata": {},
   "source": [
    "Shorthand If"
   ]
  },
  {
   "cell_type": "code",
   "execution_count": 14,
   "id": "619ee7d9",
   "metadata": {},
   "outputs": [
    {
     "name": "stdout",
     "output_type": "stream",
     "text": [
      "a is greater than b\n"
     ]
    }
   ],
   "source": [
    "a = 5\n",
    "b = 2\n",
    "if a > b: print(\"a is greater than b\")"
   ]
  },
  {
   "cell_type": "code",
   "execution_count": 15,
   "id": "ad0cc5a9",
   "metadata": {},
   "outputs": [
    {
     "name": "stdout",
     "output_type": "stream",
     "text": [
      "B\n"
     ]
    }
   ],
   "source": [
    "a = 2\n",
    "b = 330\n",
    "print(\"A\") if a > b else print(\"B\")"
   ]
  },
  {
   "cell_type": "code",
   "execution_count": 16,
   "id": "81079322",
   "metadata": {},
   "outputs": [
    {
     "name": "stdout",
     "output_type": "stream",
     "text": [
      "Bigger is 20\n"
     ]
    }
   ],
   "source": [
    "a = 10\n",
    "b = 20\n",
    "bigger = a if a > b else b\n",
    "print(\"Bigger is\", bigger)"
   ]
  },
  {
   "cell_type": "code",
   "execution_count": 17,
   "id": "e49d0460",
   "metadata": {},
   "outputs": [
    {
     "name": "stdout",
     "output_type": "stream",
     "text": [
      "=\n"
     ]
    }
   ],
   "source": [
    "a = 330\n",
    "b = 330\n",
    "print(\"A\") if a > b else print(\"=\") if a == b else print(\"B\")"
   ]
  },
  {
   "cell_type": "code",
   "execution_count": 18,
   "id": "5371de48",
   "metadata": {},
   "outputs": [
    {
     "name": "stdout",
     "output_type": "stream",
     "text": [
      "Welcome, Guest\n"
     ]
    }
   ],
   "source": [
    "username = \"\"\n",
    "display_name = username if username else \"Guest\"\n",
    "print(\"Welcome,\", display_name)"
   ]
  },
  {
   "cell_type": "markdown",
   "id": "a83dcc21",
   "metadata": {},
   "source": [
    "Logical Operators"
   ]
  },
  {
   "cell_type": "code",
   "execution_count": 19,
   "id": "3b75c789",
   "metadata": {},
   "outputs": [
    {
     "name": "stdout",
     "output_type": "stream",
     "text": [
      "Both conditions are True\n"
     ]
    }
   ],
   "source": [
    "a = 200\n",
    "b = 33\n",
    "c = 500\n",
    "if a > b and c > a:\n",
    "  print(\"Both conditions are True\")"
   ]
  },
  {
   "cell_type": "code",
   "execution_count": 20,
   "id": "688ebb6e",
   "metadata": {},
   "outputs": [
    {
     "name": "stdout",
     "output_type": "stream",
     "text": [
      "At least one of the conditions is True\n"
     ]
    }
   ],
   "source": [
    "a = 200\n",
    "b = 33\n",
    "c = 500\n",
    "if a > b or a > c:\n",
    "  print(\"At least one of the conditions is True\")"
   ]
  },
  {
   "cell_type": "code",
   "execution_count": 21,
   "id": "449e227e",
   "metadata": {},
   "outputs": [
    {
     "name": "stdout",
     "output_type": "stream",
     "text": [
      "a is NOT greater than b\n"
     ]
    }
   ],
   "source": [
    "a = 33\n",
    "b = 200\n",
    "if not a > b:\n",
    "  print(\"a is NOT greater than b\")"
   ]
  },
  {
   "cell_type": "code",
   "execution_count": 22,
   "id": "2cc09aff",
   "metadata": {},
   "outputs": [
    {
     "name": "stdout",
     "output_type": "stream",
     "text": [
      "Discount applies!\n"
     ]
    }
   ],
   "source": [
    "age = 25\n",
    "is_student = False\n",
    "has_discount_code = True\n",
    "\n",
    "if (age < 18 or age > 65) and not is_student or has_discount_code:\n",
    "  print(\"Discount applies!\")"
   ]
  },
  {
   "cell_type": "markdown",
   "id": "ddc2a25d",
   "metadata": {},
   "source": [
    "Nested If"
   ]
  },
  {
   "cell_type": "code",
   "execution_count": 23,
   "id": "f2a57e6c",
   "metadata": {},
   "outputs": [
    {
     "name": "stdout",
     "output_type": "stream",
     "text": [
      "Above ten,\n",
      "and also above 20!\n"
     ]
    }
   ],
   "source": [
    "x = 41\n",
    "\n",
    "if x > 10:\n",
    "  print(\"Above ten,\")\n",
    "  if x > 20:\n",
    "    print(\"and also above 20!\")\n",
    "  else:\n",
    "    print(\"but not above 20.\")"
   ]
  },
  {
   "cell_type": "code",
   "execution_count": 24,
   "id": "959b55d3",
   "metadata": {},
   "outputs": [
    {
     "name": "stdout",
     "output_type": "stream",
     "text": [
      "You can drive\n"
     ]
    }
   ],
   "source": [
    "age = 25\n",
    "has_license = True\n",
    "\n",
    "if age >= 18:\n",
    "  if has_license:\n",
    "    print(\"You can drive\")\n",
    "  else:\n",
    "    print(\"You need a license\")\n",
    "else:\n",
    "  print(\"You are too young to drive\")"
   ]
  },
  {
   "cell_type": "code",
   "execution_count": 25,
   "id": "029cbb17",
   "metadata": {},
   "outputs": [
    {
     "name": "stdout",
     "output_type": "stream",
     "text": [
      "Pass with good standing\n"
     ]
    }
   ],
   "source": [
    "score = 85\n",
    "attendance = 90\n",
    "submitted = True\n",
    "\n",
    "if score >= 60:\n",
    "  if attendance >= 80:\n",
    "    if submitted:\n",
    "      print(\"Pass with good standing\")\n",
    "    else:\n",
    "      print(\"Pass but missing assignment\")\n",
    "  else:\n",
    "    print(\"Pass but low attendance\")\n",
    "else:\n",
    "  print(\"Fail\")"
   ]
  },
  {
   "cell_type": "code",
   "execution_count": 26,
   "id": "3461ccac",
   "metadata": {},
   "outputs": [
    {
     "name": "stdout",
     "output_type": "stream",
     "text": [
      "Perfect beach weather!\n"
     ]
    }
   ],
   "source": [
    "temperature = 25\n",
    "is_sunny = True\n",
    "\n",
    "if temperature > 20 and is_sunny:\n",
    "  print(\"Perfect beach weather!\")"
   ]
  },
  {
   "cell_type": "code",
   "execution_count": 27,
   "id": "3fd68c47",
   "metadata": {},
   "outputs": [
    {
     "name": "stdout",
     "output_type": "stream",
     "text": [
      "Login successful\n"
     ]
    }
   ],
   "source": [
    "username = \"Amir\"\n",
    "password = \"python123\"\n",
    "is_active = True\n",
    "\n",
    "if username:\n",
    "  if password:\n",
    "    if is_active:\n",
    "      print(\"Login successful\")\n",
    "    else:\n",
    "      print(\"Account is not active\")\n",
    "  else:\n",
    "    print(\"Password required\")\n",
    "else:\n",
    "  print(\"Username required\")"
   ]
  },
  {
   "cell_type": "markdown",
   "id": "87e8c136",
   "metadata": {},
   "source": [
    "Pass Statement"
   ]
  },
  {
   "cell_type": "code",
   "execution_count": 28,
   "id": "45da3cf9",
   "metadata": {},
   "outputs": [],
   "source": [
    "age = 16\n",
    "\n",
    "if age < 18:\n",
    "  pass # TODO: Add underage logic later\n",
    "else:\n",
    "  print(\"Access granted\")"
   ]
  },
  {
   "cell_type": "code",
   "execution_count": 29,
   "id": "2d70d9c0",
   "metadata": {},
   "outputs": [
    {
     "name": "stdout",
     "output_type": "stream",
     "text": [
      "Score processed\n"
     ]
    }
   ],
   "source": [
    "score = 85\n",
    "\n",
    "if score > 90:\n",
    "  pass # This is excellent\n",
    "print(\"Score processed\")"
   ]
  },
  {
   "cell_type": "code",
   "execution_count": 32,
   "id": "99a46630",
   "metadata": {},
   "outputs": [],
   "source": [
    "#This will cause an error (empty code block):\n",
    "\n",
    "# score = 85\n",
    "\n",
    "# if score > 90:\n",
    "#   # This is excellent\n",
    "# # This will raise an IndentationError"
   ]
  },
  {
   "cell_type": "code",
   "execution_count": 33,
   "id": "f8d3d755",
   "metadata": {},
   "outputs": [
    {
     "name": "stdout",
     "output_type": "stream",
     "text": [
      "Positive value\n"
     ]
    }
   ],
   "source": [
    "value = 50\n",
    "\n",
    "if value < 0:\n",
    "  print(\"Negative value\")\n",
    "elif value == 0:\n",
    "  pass # Zero case - no action needed\n",
    "else:\n",
    "  print(\"Positive value\")"
   ]
  },
  {
   "cell_type": "code",
   "execution_count": null,
   "id": "db55d00c",
   "metadata": {},
   "outputs": [],
   "source": []
  }
 ],
 "metadata": {
  "kernelspec": {
   "display_name": "Python 3",
   "language": "python",
   "name": "python3"
  },
  "language_info": {
   "codemirror_mode": {
    "name": "ipython",
    "version": 3
   },
   "file_extension": ".py",
   "mimetype": "text/x-python",
   "name": "python",
   "nbconvert_exporter": "python",
   "pygments_lexer": "ipython3",
   "version": "3.12.7"
  }
 },
 "nbformat": 4,
 "nbformat_minor": 5
}
