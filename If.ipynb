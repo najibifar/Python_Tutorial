{
 "cells": [
  {
   "cell_type": "markdown",
   "id": "f914a932",
   "metadata": {},
   "source": [
    "If Statement"
   ]
  },
  {
   "cell_type": "code",
   "execution_count": 1,
   "id": "dc467d61",
   "metadata": {},
   "outputs": [
    {
     "name": "stdout",
     "output_type": "stream",
     "text": [
      "b is greater than a\n"
     ]
    }
   ],
   "source": [
    "a = 33\n",
    "b = 200\n",
    "if b > a:\n",
    "  print(\"b is greater than a\")"
   ]
  },
  {
   "cell_type": "code",
   "execution_count": 2,
   "id": "3a332b98",
   "metadata": {},
   "outputs": [
    {
     "name": "stdout",
     "output_type": "stream",
     "text": [
      "The number is positive\n"
     ]
    }
   ],
   "source": [
    "number = 15\n",
    "if number > 0:\n",
    "  print(\"The number is positive\")"
   ]
  },
  {
   "cell_type": "code",
   "execution_count": 3,
   "id": "c99380fe",
   "metadata": {},
   "outputs": [
    {
     "name": "stdout",
     "output_type": "stream",
     "text": [
      "You are an adult\n",
      "You can vote\n",
      "You have full legal rights\n"
     ]
    }
   ],
   "source": [
    "age = 20\n",
    "if age >= 18:\n",
    "  print(\"You are an adult\")\n",
    "  print(\"You can vote\")\n",
    "  print(\"You have full legal rights\")"
   ]
  },
  {
   "cell_type": "code",
   "execution_count": 4,
   "id": "da20b47a",
   "metadata": {},
   "outputs": [
    {
     "name": "stdout",
     "output_type": "stream",
     "text": [
      "Welcome back!\n"
     ]
    }
   ],
   "source": [
    "is_logged_in = True\n",
    "if is_logged_in:\n",
    "  print(\"Welcome back!\")"
   ]
  },
  {
   "cell_type": "code",
   "execution_count": null,
   "id": "4ece6b08",
   "metadata": {},
   "outputs": [],
   "source": []
  }
 ],
 "metadata": {
  "kernelspec": {
   "display_name": "Python 3",
   "language": "python",
   "name": "python3"
  },
  "language_info": {
   "codemirror_mode": {
    "name": "ipython",
    "version": 3
   },
   "file_extension": ".py",
   "mimetype": "text/x-python",
   "name": "python",
   "nbconvert_exporter": "python",
   "pygments_lexer": "ipython3",
   "version": "3.12.7"
  }
 },
 "nbformat": 4,
 "nbformat_minor": 5
}
